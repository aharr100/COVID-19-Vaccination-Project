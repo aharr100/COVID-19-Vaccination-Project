{
 "cells": [
  {
   "cell_type": "code",
   "execution_count": 1,
   "metadata": {},
   "outputs": [],
   "source": [
    "import pandas as pd\n",
    "import numpy as np\n",
    "import seaborn as sns\n",
    "import matplotlib.pyplot as plt\n",
    "from sklearn.model_selection import train_test_split\n",
    "from pandas.plotting import parallel_coordinates\n",
    "from sklearn.tree import DecisionTreeClassifier, plot_tree\n",
    "from sklearn import metrics\n",
    "from sklearn.naive_bayes import GaussianNB\n",
    "from sklearn.discriminant_analysis import LinearDiscriminantAnalysis, QuadraticDiscriminantAnalysis\n",
    "from sklearn.neighbors import KNeighborsClassifier\n",
    "from sklearn.svm import SVC\n",
    "from sklearn.linear_model import LogisticRegression"
   ]
  },
  {
   "cell_type": "code",
   "execution_count": 2,
   "metadata": {},
   "outputs": [],
   "source": [
    "# load through url\n",
    "data = pd.read_csv('/Users/alana/OneDrive/Documents/covidvaccinemaster.csv')"
   ]
  },
  {
   "cell_type": "code",
   "execution_count": 3,
   "metadata": {},
   "outputs": [
    {
     "data": {
      "text/html": [
       "<div>\n",
       "<style scoped>\n",
       "    .dataframe tbody tr th:only-of-type {\n",
       "        vertical-align: middle;\n",
       "    }\n",
       "\n",
       "    .dataframe tbody tr th {\n",
       "        vertical-align: top;\n",
       "    }\n",
       "\n",
       "    .dataframe thead th {\n",
       "        text-align: right;\n",
       "    }\n",
       "</style>\n",
       "<table border=\"1\" class=\"dataframe\">\n",
       "  <thead>\n",
       "    <tr style=\"text-align: right;\">\n",
       "      <th></th>\n",
       "      <th>Entity</th>\n",
       "      <th>States</th>\n",
       "      <th>Total Vaccinations</th>\n",
       "      <th>Total Vaccinations Per Hundred</th>\n",
       "      <th>People Vaccinated</th>\n",
       "      <th>People Vaccinated Per Hundred</th>\n",
       "      <th>People Fully Vaccinated</th>\n",
       "      <th>People Fully Vaccinated Per Hundred</th>\n",
       "      <th>Daily Vaccinations</th>\n",
       "      <th>Daily Vaccinations Per Million</th>\n",
       "      <th>Total Distributed</th>\n",
       "      <th>Share Doses Used</th>\n",
       "    </tr>\n",
       "  </thead>\n",
       "  <tbody>\n",
       "    <tr>\n",
       "      <th>0</th>\n",
       "      <td>Alabama</td>\n",
       "      <td>AL</td>\n",
       "      <td>1,032,171.00</td>\n",
       "      <td>21.05</td>\n",
       "      <td>672546</td>\n",
       "      <td>13.72</td>\n",
       "      <td>357384</td>\n",
       "      <td>7.29</td>\n",
       "      <td>23916</td>\n",
       "      <td>4878</td>\n",
       "      <td>1530470</td>\n",
       "      <td>0.674</td>\n",
       "    </tr>\n",
       "    <tr>\n",
       "      <th>1</th>\n",
       "      <td>Alaska</td>\n",
       "      <td>AK</td>\n",
       "      <td>276,891.00</td>\n",
       "      <td>37.85</td>\n",
       "      <td>172050</td>\n",
       "      <td>23.52</td>\n",
       "      <td>104193</td>\n",
       "      <td>14.24</td>\n",
       "      <td>3905</td>\n",
       "      <td>5338</td>\n",
       "      <td>409125</td>\n",
       "      <td>0.677</td>\n",
       "    </tr>\n",
       "    <tr>\n",
       "      <th>2</th>\n",
       "      <td>Arizona</td>\n",
       "      <td>AZ</td>\n",
       "      <td>1,979,929.00</td>\n",
       "      <td>27.20</td>\n",
       "      <td>1329996</td>\n",
       "      <td>18.27</td>\n",
       "      <td>640078</td>\n",
       "      <td>8.79</td>\n",
       "      <td>53198</td>\n",
       "      <td>7309</td>\n",
       "      <td>2453985</td>\n",
       "      <td>0.807</td>\n",
       "    </tr>\n",
       "    <tr>\n",
       "      <th>3</th>\n",
       "      <td>Arkansas</td>\n",
       "      <td>AR</td>\n",
       "      <td>704,368.00</td>\n",
       "      <td>23.34</td>\n",
       "      <td>451127</td>\n",
       "      <td>14.95</td>\n",
       "      <td>249244</td>\n",
       "      <td>8.26</td>\n",
       "      <td>18831</td>\n",
       "      <td>6240</td>\n",
       "      <td>990640</td>\n",
       "      <td>0.711</td>\n",
       "    </tr>\n",
       "    <tr>\n",
       "      <th>4</th>\n",
       "      <td>California</td>\n",
       "      <td>CA</td>\n",
       "      <td>9,860,209.00</td>\n",
       "      <td>24.96</td>\n",
       "      <td>6751368</td>\n",
       "      <td>17.09</td>\n",
       "      <td>3047327</td>\n",
       "      <td>7.71</td>\n",
       "      <td>256584</td>\n",
       "      <td>6494</td>\n",
       "      <td>13233190</td>\n",
       "      <td>0.745</td>\n",
       "    </tr>\n",
       "  </tbody>\n",
       "</table>\n",
       "</div>"
      ],
      "text/plain": [
       "       Entity States Total Vaccinations  Total Vaccinations Per Hundred  \\\n",
       "0     Alabama     AL       1,032,171.00                           21.05   \n",
       "1      Alaska     AK         276,891.00                           37.85   \n",
       "2     Arizona     AZ       1,979,929.00                           27.20   \n",
       "3    Arkansas     AR         704,368.00                           23.34   \n",
       "4  California     CA       9,860,209.00                           24.96   \n",
       "\n",
       "   People Vaccinated  People Vaccinated Per Hundred  People Fully Vaccinated  \\\n",
       "0             672546                          13.72                   357384   \n",
       "1             172050                          23.52                   104193   \n",
       "2            1329996                          18.27                   640078   \n",
       "3             451127                          14.95                   249244   \n",
       "4            6751368                          17.09                  3047327   \n",
       "\n",
       "   People Fully Vaccinated Per Hundred  Daily Vaccinations  \\\n",
       "0                                 7.29               23916   \n",
       "1                                14.24                3905   \n",
       "2                                 8.79               53198   \n",
       "3                                 8.26               18831   \n",
       "4                                 7.71              256584   \n",
       "\n",
       "   Daily Vaccinations Per Million  Total Distributed  Share Doses Used  \n",
       "0                            4878            1530470             0.674  \n",
       "1                            5338             409125             0.677  \n",
       "2                            7309            2453985             0.807  \n",
       "3                            6240             990640             0.711  \n",
       "4                            6494           13233190             0.745  "
      ]
     },
     "execution_count": 3,
     "metadata": {},
     "output_type": "execute_result"
    }
   ],
   "source": [
    "data.head()"
   ]
  },
  {
   "cell_type": "code",
   "execution_count": 4,
   "metadata": {},
   "outputs": [
    {
     "data": {
      "text/plain": [
       "<function matplotlib.pyplot.show(close=None, block=None)>"
      ]
     },
     "execution_count": 4,
     "metadata": {},
     "output_type": "execute_result"
    },
    {
     "data": {
      "image/png": "[encoded data removed]",
      "text/plain": [
       "<Figure size 432x288 with 1 Axes>"
      ]
     },
     "metadata": {
      "needs_background": "light"
     },
     "output_type": "display_data"
    }
   ],
   "source": [
    "data.plot.line(x='States', y='Total Distributed', color='#DFF2FD', linewidth = '5');\n",
    "States=['AL', 'AK', 'AZ','AR','CA','CO','CT','DE','DC','FL','GA','HI','ID','IL','IN','IA','KS','KY','LA','ME','MD','MA','MI','MN','MS','MO','MT','NE','NV','NH','NJ','NM','NY','NC','ND','OH','OK','OR','PA','RI','SC','SD','TN','TX','UT','VT','VA','WA','WV','WI','WY']\n",
    "plt.title('Covid Vaccines Distributed By States')\n",
    "#plt.style.use('dark_background')\n",
    "plt.xlabel('States')\n",
    "plt.xticks()  \n",
    "plt.ylabel('Total Distribution')\n",
    "plt.rcParams['figure.figsize']=(18,10)\n",
    "#df.to_csv('covidvaccinemaster.csv')\n",
    "#df.head(1000).to_csv('covidvaccinemaster.csv')\n",
    "plt.plot(linewidth = '200.5')\n",
    "plt.show"
   ]
  },
  {
   "cell_type": "code",
   "execution_count": 5,
   "metadata": {},
   "outputs": [
    {
     "data": {
      "text/plain": [
       "[]"
      ]
     },
     "execution_count": 5,
     "metadata": {},
     "output_type": "execute_result"
    },
    {
     "data": {
      "image/png": "[encoded data removed]",
      "text/plain": [
       "<Figure size 1296x720 with 1 Axes>"
      ]
     },
     "metadata": {
      "needs_background": "light"
     },
     "output_type": "display_data"
    }
   ],
   "source": [
    "data.plot.bar('States','Share Doses Used', color='#DFF2FD');\n",
    "plt.title('Distributed Vaccines Used')\n",
    "plt.xlabel('States')\n",
    "plt.ylabel('Distributed Vaccines Used')\n",
    "plt.rcParams[\"figure.figsize\"] = (20,10)\n",
    "plt.plot(linewidth = '200.5')"
   ]
  },
  {
   "cell_type": "code",
   "execution_count": null,
   "metadata": {},
   "outputs": [],
   "source": []
  }
 ],
 "metadata": {
  "kernelspec": {
   "display_name": "Python 3",
   "language": "python",
   "name": "python3"
  },
  "language_info": {
   "codemirror_mode": {
    "name": "ipython",
    "version": 3
   },
   "file_extension": ".py",
   "mimetype": "text/x-python",
   "name": "python",
   "nbconvert_exporter": "python",
   "pygments_lexer": "ipython3",
   "version": "3.8.5"
  }
 },
 "nbformat": 4,
 "nbformat_minor": 4
}
